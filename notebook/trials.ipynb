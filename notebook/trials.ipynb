{
  "cells": [
    {
      "cell_type": "code",
      "execution_count": 1,
      "metadata": {
        "id": "spRUZ2DE4B_1"
      },
      "outputs": [],
      "source": [
        "!pip install -q unstructured\n",
        "!pip install -q langchain-chroma\n",
        "!pip install -q langchain\n",
        "!pip install -q langchain-community\n",
        "!pip install -q langchain-google-genai\n",
        "!pip install -q faiss-cpu"
      ]
    },
    {
      "cell_type": "code",
      "execution_count": 2,
      "metadata": {
        "id": "K26T9jcC65GE"
      },
      "outputs": [],
      "source": [
        "!pip install -q numpy==1.24.4"
      ]
    },
    {
      "cell_type": "code",
      "execution_count": 3,
      "metadata": {
        "colab": {
          "base_uri": "https://localhost:8080/"
        },
        "id": "uPrOP1tM7bG5",
        "outputId": "810751fc-fcb6-4d51-d9b1-6859405e86e8"
      },
      "outputs": [
        {
          "name": "stdout",
          "output_type": "stream",
          "text": [
            "Requirement already satisfied: nltk==3.9.1 in /usr/local/lib/python3.10/dist-packages (3.9.1)\n",
            "Requirement already satisfied: click in /usr/local/lib/python3.10/dist-packages (from nltk==3.9.1) (8.1.7)\n",
            "Requirement already satisfied: joblib in /usr/local/lib/python3.10/dist-packages (from nltk==3.9.1) (1.4.2)\n",
            "Requirement already satisfied: regex>=2021.8.3 in /usr/local/lib/python3.10/dist-packages (from nltk==3.9.1) (2024.5.15)\n",
            "Requirement already satisfied: tqdm in /usr/local/lib/python3.10/dist-packages (from nltk==3.9.1) (4.66.5)\n"
          ]
        }
      ],
      "source": [
        "!pip install --upgrade nltk==3.9.1"
      ]
    },
    {
      "cell_type": "code",
      "execution_count": 4,
      "metadata": {
        "colab": {
          "base_uri": "https://localhost:8080/"
        },
        "id": "tXelmJkF7NaL",
        "outputId": "825ce502-e92d-4547-f03b-13d88a31aa07"
      },
      "outputs": [
        {
          "name": "stderr",
          "output_type": "stream",
          "text": [
            "[nltk_data] Downloading package punkt to /root/nltk_data...\n",
            "[nltk_data]   Package punkt is already up-to-date!\n"
          ]
        },
        {
          "data": {
            "text/plain": [
              "True"
            ]
          },
          "execution_count": 4,
          "metadata": {},
          "output_type": "execute_result"
        }
      ],
      "source": [
        "import nltk\n",
        "nltk.download('punkt')"
      ]
    },
    {
      "cell_type": "code",
      "execution_count": 5,
      "metadata": {
        "id": "nFEUYnVy6kOH"
      },
      "outputs": [],
      "source": [
        "import warnings\n",
        "warnings.filterwarnings('ignore')"
      ]
    },
    {
      "cell_type": "code",
      "execution_count": 6,
      "metadata": {
        "id": "LyZffVDg5F4j"
      },
      "outputs": [],
      "source": [
        "from google.colab import userdata\n",
        "GOOGLE_API_KEY= userdata.get('GOOGLE_API_KEY')"
      ]
    },
    {
      "cell_type": "code",
      "execution_count": 7,
      "metadata": {
        "id": "uf_JWKIb5LUN"
      },
      "outputs": [],
      "source": [
        "import os\n",
        "os.environ[\"GOOGLE_API_KEY\"] = GOOGLE_API_KEY"
      ]
    },
    {
      "cell_type": "code",
      "execution_count": 8,
      "metadata": {
        "id": "6pb5b_fp6mIK"
      },
      "outputs": [],
      "source": [
        "from langchain_google_genai import GoogleGenerativeAIEmbeddings\n",
        "gemini_embeddings = GoogleGenerativeAIEmbeddings(model=\"models/embedding-001\")"
      ]
    },
    {
      "cell_type": "code",
      "execution_count": 9,
      "metadata": {
        "id": "qyTwkMNg6mni"
      },
      "outputs": [],
      "source": [
        "from langchain_google_genai import ChatGoogleGenerativeAI\n",
        "model = ChatGoogleGenerativeAI(model=\"gemini-1.0-pro\",convert_system_message_to_human=True)"
      ]
    },
    {
      "cell_type": "code",
      "execution_count": 10,
      "metadata": {
        "id": "CkEjeG2o5PBv"
      },
      "outputs": [],
      "source": [
        "from langchain.document_loaders import UnstructuredURLLoader\n",
        "from langchain.chains import create_retrieval_chain\n",
        "from langchain.chains.combine_documents import create_stuff_documents_chain\n",
        "from langchain_chroma import Chroma\n",
        "from langchain_core.prompts import ChatPromptTemplate\n",
        "from langchain_text_splitters import RecursiveCharacterTextSplitter\n",
        "from langchain_core.prompts import MessagesPlaceholder"
      ]
    },
    {
      "cell_type": "code",
      "execution_count": 11,
      "metadata": {
        "id": "I5RBopgB62NW"
      },
      "outputs": [],
      "source": [
        "URLs = [\n",
        "    \"https://zepanalytics.com/\",\n",
        "    \"https://zepanalytics.com/courses\",\n",
        "    \"https://zepanalytics.com/bundle\",\n",
        "    \"https://zepanalytics.com/projects\",\n",
        "    \"https://zepanalytics.com/blogs\",\n",
        "    \"https://zepanalytics.com/virtual-internship\",\n",
        "    \"https://zepanalytics.com/courses/python-programming-for-data-science-a-z\",\n",
        "    \"https://zepanalytics.com/courses/microsoft-power-bi-a-complete-guide-2023-edition\",\n",
        "    \"https://zepanalytics.com/courses/cnn-everything-about-convolution-neural-networks\"\n",
        "\n",
        "]"
      ]
    },
    {
      "cell_type": "code",
      "execution_count": 12,
      "metadata": {
        "id": "thHIqpuN7EMV"
      },
      "outputs": [],
      "source": [
        "loader = UnstructuredURLLoader(urls = URLs)\n",
        "data = loader.load()"
      ]
    },
    {
      "cell_type": "code",
      "execution_count": 13,
      "metadata": {
        "colab": {
          "base_uri": "https://localhost:8080/"
        },
        "id": "sk2Glt2H7G-j",
        "outputId": "cc25dd93-dbad-4856-d2b6-207723e5635c"
      },
      "outputs": [
        {
          "data": {
            "text/plain": [
              "[Document(metadata={'source': 'https://zepanalytics.com/'}, page_content=\"Get Access to Unlimited Educational Resources. Everywhere, Everytime!\\n\\nPremium access to more than 1,000 resources ranging from courses, bootcamps e.t.c.\\n\\nGet Access\\n\\nLets Study Data Science, AI/ML and Gen AI. Enroll Now!!\\n\\nThe most intense self paced program with detailed teaching and 24/7 chat support\\n\\nKnow More\\n\\nPrevious Next\\n\\nWhy Choose Zep Analytics\\n\\nOn demand courses\\n\\nCourses according to industry demand and standards. Both Free and Paid. Well structured in-depth courses to learn topics effectively.\\n\\nUnlimited Access\\n\\nGet lifetime access to resources and courses and learn at your own pace.\\n\\nImmense Facilities\\n\\nGet avail with immense facilities like Blogging, resume discussion, mock interview, career counselling, etc.\\n\\nMentorship program\\n\\nGet mentored by various successful professionals in the industry for better career growth.\\n\\nTreasure of Resources\\n\\nGet access to various resources like notes on various topics, interview questions, cheat sheets, etc.\\n\\nReward System\\n\\nOur Exclusive reward system will help you get rewards for various activities you do on our platform.\\n\\nOne on One\\n\\nGet connected to industry experts so that they can guide you. (Website, App, WhatsApp, Telegram, Facebook, etc.)\\n\\nMock Interviews\\n\\nMake a demand for Mock Interview and have access to industry similar mock interview by industry experts so that you get an idea for where you stand.\\n\\nResume Preparation\\n\\n8 out of 100 resumes are selected for interviews. Through our Resume Preparation feature make a effective resume with our experts so that you immediately get selected.\\n\\nCourses\\n\\n₹999.00 ₹499.00\\n\\nCNN: Everything about Convolution Neural Networks\\n\\nFree\\n\\nData Analytics Portfolio Project: Cryptocurrency\\n\\n₹999.00 ₹299.00\\n\\nData Science & Analytics Career Guide - Interview Q&As\\n\\n₹1,999.00 ₹999.00\\n\\nPython Programming for Data Science: A-Z\\n\\n₹3,999.00 ₹1,999.00\\n\\nMicrosoft Power BI: A Complete Guide [2023 Edition]\\n\\n₹999.00 ₹999.00\\n\\nFinancial Dashboard using Power BI\\n\\n₹999.00 ₹999.00\\n\\nHealthcare Dashboard\\n\\n₹999.00 ₹999.00\\n\\nITSM Dashboard using Power BI\\n\\n₹1,999.00 ₹999.00\\n\\nSQL for Data Analysis\\n\\nNo course found under this category\\n\\nNo course found under this category\\n\\nTop Category\\n\\nData Science\\n\\nAnalytics\\n\\nBig Data\\n\\nCloud\\n\\nWhat our students say\\n\\nDebi Prasad Mishra\\n\\nSenior Business Intelligence Engineer\\n\\nLinkedin Profile\\n\\nIt was a awesome experience with entire zep family and my special thanks to Satyajit!! Strongly recommending for others. I can definitely say that zep is a great platform with real time exposure, theories, online-live demonstrations & coding for next move. Thanks again to the entire team :)\\n\\nShyam Sundhar\\n\\nData Engineer\\n\\nLinkedin Profile\\n\\nThe moment I watched Satyajit's YouTube videos regarding Data Science, I made up my decision to take up course from him. The roadmap and way of mentoring has helped me crack a Data Engineering role in a MNC. He knows what a student needs and covers basics to advance level in all of his courses.\\n\\nChethan LC\\n\\nBI Analyst 3\\n\\nLinkedin Profile\\n\\nI had a great learning experience with zep analytics. The course structure was really very good and covered most of the topics which attracted my attention. The data analytics concepts were clearly explained by satyajit sir especially the examples were all real life scenarios on which we work on day to day basis.Once you join this course, there is no looking back” , as the future that lies ahead looks very exciting.\\n\\nSatyajit Mohanty\\n\\nData Analyst\\n\\nLinkedin Profile\\n\\nI am quite grateful to Zep Analytics and Satyajit Sir for guiding me in the entire journey to learn data science. Real-time live classes, crisp syllabus and doubt-solving sessions at an affordable course fee that too for a student to a working professional. Some of the best learning takes place through experience in the field i.e practically and improvising techniques of learning to yield the best results. I will be recommending this course to everyone who wants to transition to data science field. Thanks to the entire zep analytics team.\\n\\nMeena Rajendran\\n\\nGIS Analyst\\n\\nThe program covered various topics related to Data Analytics in a comprehensive way. Each session was very informative. The sessions were well-structured and were easy to understand. We had industry-level use cases for practice and also had 4-5 real-world industry projects. Though some of the sessions were difficult for me to understand, the instructors were very cooperative and helped me understand each concept very well. Thank you so much for such a wonderful technical journey through data analytics. I would like to personally thank my guide-cum-instructor, Mr. Satyajit Pattnaik, for providing me with an awesome bundle of AI, Data Science, and Analytics program.\\n\\nLearn A Skill. Build Your Portfolio. Get Hired!\\n\\nZep Analytics is an AI driven EdTech company focused in providing quality Education in the form of pre-recorded & online bootcamps on the latest technologies such as Data Science, Machine Learning, AI, Data Analytics, and many more. Apart from that, we also have many unique features on the platform such as a reward system where we can provide incentives to our users based on their activities.\\n\\nIn future, we also aim to create the world’s first OTT platform where we will introduce a concept called as EaaS (Education as a Service)\\n\\nDiscover\\n\\nOur Blogs\\n\\nGeneral\\n\\nWhy just be a Blogger when you can be a Tech Blogger?\\n\\nSatyajit Pattnaik\\n\\nMar, 05 2022\\n\\nData Science\\n\\nEasy Guide on Time Series Forecasting\\n\\nSatyajit Pattnaik\\n\\nMar, 05 2022\\n\\nData Science\\n\\nComplete Understanding on Outlier Analysis\\n\\nZA Admin\\n\\nMar, 05 2022\\n\\nData Science\\n\\nIntroduction to Statistics for Data Science\\n\\nJay Charole\\n\\nMar, 11 2022\\n\\nData Analytics\\n\\nData Science Vs Data Analytics\\n\\nAvani Popat\\n\\nMar, 10 2022\\n\\nData Science\\n\\nComplete Introduction to Machine Learning\\n\\nJay Charole\\n\\nMar, 11 2022\\n\\nData Analytics\\n\\nOverview for Power BI\\n\\nJay Charole\\n\\nMar, 11 2022\\n\\nWeb Development\\n\\nGetting Started With Web Development\\n\\nHassam Ali\\n\\nMar, 31 2022\\n\\nLoad More\\n\\nSelf Paced DS/AI Masters 👇👇👇\\n\\nInterested to learn Data Science/AI? Join our Self Paced Masters program NOW!!\\n\\nContact Us\"),\n",
              " Document(metadata={'source': 'https://zepanalytics.com/courses'}, page_content='Current price ₹1,999.00 ₹999.00\\n\\nPython Programming for Data Science: A-Z\\n\\nAnalytics , Data Science\\n\\nLearn to use Data Science & Analysis libraries like Pandas, NumPy, Matplotlib, Seaborn\\n\\nEnglish Course 4.9\\n\\nCurrent price ₹999.00 ₹499.00\\n\\nCNN: Everything about Convolution Neural Networks\\n\\nData Science\\n\\nMaster CNN within few hours & Be Ready to build your own Neural Networks\\n\\nEnglish Course 5.0\\n\\nCurrent price ₹1,999.00 ₹999.00\\n\\nThe Complete Deep Learning Guide\\n\\nData Science\\n\\nMaster Neural Networks in few hours & Be Ready to build your own!!\\n\\nEnglish Course\\n\\nCurrent price ₹1,999.00 ₹999.00\\n\\nApache Spark - Hands on with Big Data\\n\\nBig Data\\n\\nApache Spark tutorial with 15+ hours of content and several hands-on examples of analyzing large data sets!!\\n\\nEnglish Course 5.0\\n\\nCurrent price ₹3,999.00 ₹1,999.00\\n\\nMicrosoft Power BI: A Complete Guide [2023 Edition]\\n\\nAnalytics\\n\\nMaster Power BI Desktop: Learn advanced Power BI analysis & data visualization\\n\\nEnglish Course\\n\\nCurrent price ₹1,999.00 ₹999.00\\n\\nSQL for Data Analysis\\n\\nAnalytics\\n\\nMaster SQL within few hours\\n\\nEnglish Course\\n\\nCurrent price ₹3,999.00 ₹1,999.00\\n\\nData Visualization Bootcamp\\n\\nAnalytics\\n\\nThe most intense Data Visualization Bootcamp with detailed teaching.\\n\\nEnglish Course\\n\\nCurrent price Free\\n\\nData Analytics Portfolio Project: Cryptocurrency\\n\\nData Science\\n\\nLearn how to prepare a Data Analytics Portfolio Project\\n\\nEnglish Course 5.0\\n\\nCurrent price ₹999.00 ₹499.00\\n\\nBuild 3 Data Analysis Projects: Tableau 2022\\n\\nAnalytics\\n\\nReal-Life Data Visualization, Data analysis, analytics Exercises Projects.\\n\\nEnglish Course\\n\\nCurrent price ₹299.00 ₹99.00\\n\\nSpecial Microsoft PL-300 Exam Pack\\n\\nAnalytics\\n\\nPrepare for your PL-300 Exam with this guide and cheatsheet.\\n\\nEnglish Course'),\n",
              " Document(metadata={'source': 'https://zepanalytics.com/bundle'}, page_content='Current price ₹7,294.00 ₹4,999.00\\n\\nSelf Paced Data Analytics\\n\\nPython Programming for Data Science: A-Z\\n\\nSQL for Data Analysis\\n\\nLearn Microsoft Excel for Data Analysis: Zero to Hero\\n\\nMicrosoft Power BI: A Complete Guide [2023 Edition]\\n\\nTableau A-Z: An End to End Guide\\n\\nData Science & Analytics Career Guide - Interview Q&As\\n\\nData Analytics (Pre-Recorded)\\n\\nEnglish Bundle Course\\n\\nCurrent price ₹792.00 ₹499.00\\n\\nSales Dashboard using Power BI\\n\\nConsumers Goods Sales Dashboard Using Power BI\\n\\nCRM Sales Dashboard using Power BI\\n\\nSales Dashboard Using Power BI\\n\\nRetail Sales Dashboard Using Power BI\\n\\nRegional Sales Summary Dashboard Using Power BI\\n\\nRegional Profit Insights Dashboard using Power BI\\n\\nProduct Sales Overview Dashboard using Power BI\\n\\nProduct Sales Insights Dashboard Using Power BI\\n\\nGet a set of Sales Analysis related Power BI Projects and build an amazing Portfolio\\n\\nEnglish Bundle Course\\n\\nCurrent price ₹3,998.00 ₹2,999.00\\n\\nSelf Paced Business Intelligence\\n\\nMicrosoft Power BI: A Complete Guide [2023 Edition]\\n\\nTableau A-Z: An End to End Guide\\n\\nBusiness Intelligence - Power BI &amp;amp;amp;amp;amp; Tableau (Pre-Recorded)\\n\\nEnglish Bundle Course'),\n",
              " Document(metadata={'source': 'https://zepanalytics.com/projects'}, page_content='Current price ₹999.00 ₹999.00\\n\\nFinancial Dashboard using Power BI\\n\\nAnalytics\\n\\nComplete Data Analytics Project\\n\\nEnglish Project\\n\\nCurrent price ₹999.00 ₹999.00\\n\\nHealthcare Dashboard\\n\\nAnalytics\\n\\nComplete Data Analytics Project\\n\\nEnglish Project 5.0\\n\\nCurrent price ₹999.00 ₹999.00\\n\\nITSM Dashboard using Power BI\\n\\nAnalytics\\n\\nComplete Data Analytics Project\\n\\nEnglish Project\\n\\nCurrent price ₹999.00 ₹999.00\\n\\nBanking Analysis using Tableau\\n\\nAnalytics\\n\\nComplete Data Analytics Project\\n\\nEnglish Project\\n\\nCurrent price ₹999.00 ₹999.00\\n\\nStarbucks Data Analysis using Tableau\\n\\nAnalytics\\n\\nComplete Data Analytics Project\\n\\nEnglish Project\\n\\nCurrent price ₹999.00 ₹999.00\\n\\nSWIGGY Data Analytics Project using Tableau\\n\\nAnalytics\\n\\nComplete Data Analytics Project\\n\\nEnglish Project\\n\\nCurrent price ₹999.00 ₹999.00\\n\\nAdmission Analysis using Power BI\\n\\nAnalytics\\n\\nComplete Data Analytics Project\\n\\nEnglish Project\\n\\nCurrent price ₹999.00 ₹999.00\\n\\nAccounts Receivable Insights Dashboard Using Power BI\\n\\nAnalytics\\n\\nComplete Data Analytics Project\\n\\nEnglish Project\\n\\nCurrent price ₹999.00 ₹999.00\\n\\nBanking Dashboard Using Power BI\\n\\nAnalytics\\n\\nComplete Data Analytics Project\\n\\nEnglish Project\\n\\nCurrent price ₹999.00 ₹999.00\\n\\nConsumers Goods Sales Dashboard Using Power BI\\n\\nAnalytics\\n\\nComplete Data Analytics Project\\n\\nEnglish Project'),\n",
              " Document(metadata={'source': 'https://zepanalytics.com/blogs'}, page_content=\"Data Analytics\\n\\nCurating Your Data Research Portfolio: A Guide to Selecting Publications\\n\\nMukta Tiwari\\n\\nOct, 01 2023\\n\\nData Analytics\\n\\nThe Art of Data Cleaning\\n\\nMukta Tiwari\\n\\nSep, 20 2023\\n\\nProgramming\\n\\nGuide on Nginx Ingress Path-based routing\\n\\nZep Analytics\\n\\nMay, 31 2023\\n\\nData Science\\n\\nDatabase Data Warehouses Data Lakes and Data Marts & their Imapcts on Carbon footprints CO2\\n\\nMoumita Majumdar\\n\\nOct, 01 2023\\n\\nData Analytics\\n\\nLet's Understand the Basics of SQL\\n\\nNikki Mittal\\n\\nDec, 27 2022\\n\\nData Science\\n\\nK-Nearest Neighbor\\n\\nAnkita Das\\n\\nDec, 27 2022\\n\\nData Analytics\\n\\nLet's talk about Data Analytics\\n\\nNikki Mittal\\n\\nDec, 27 2022\\n\\nData Science\\n\\nK Nearest Neighbour with Python Implementation\\n\\nAnkit Yadav\\n\\nDec, 27 2022\\n\\nData Science\\n\\nK means Clustering\\n\\nAnkit Yadav\\n\\nDec, 27 2022\\n\\nData Science\\n\\nA Guide to Web Scraping - (An example : Hindi News Website)\\n\\nTanya Chhikara\\n\\nDec, 27 2022\\n\\nData Analytics\\n\\nWhy Sample Standard Deviation uses n-1 for calculation ?\\n\\nHarsh Mehta\\n\\nDec, 27 2022\\n\\nData Science\\n\\nDecision Tree Algorithm with Python Implementation\\n\\nAnkit Yadav\\n\\nDec, 27 2022\"),\n",
              " Document(metadata={'source': 'https://zepanalytics.com/virtual-internship'}, page_content='Join our Virtual Internships!!\\n\\nEnroll now and play around with some industry level projects while gaining an internship certificate\\n\\nCheck Now\\n\\nALL\\n\\nData Science\\n\\nAnalytics\\n\\nVirtual Internships\\n\\nAnalytics,Data Science\\n\\n1 Month\\n\\n1 Month\\n\\nData Science for Telecom: Virtual Internship\\n\\nIn a virtual data science internship, predict telecom churn by analyzing call details records (CDR) remotely.\\n\\nSatyajit Pattnaik\\n\\n₹999.00 ₹499.00\\n\\nData Science\\n\\n1 Month\\n\\n1 Month\\n\\nData Science for CyberSecurity: Virtual Internship\\n\\nIn a virtual cybersecurity data science internship, predict threats by analyzing call details records (CDR) remotely.\\n\\nSatyajit Pattnaik\\n\\n₹999.00 ₹499.00\\n\\nData Science\\n\\n1 Month\\n\\n1 Month\\n\\nData Science for E-Commerce: Virtual Internship\\n\\nA virtual internship in e-commerce data science involves remotely applying data analysis and machine learning techniques to gain insights and drive improvements in online retail operations.\\n\\nSatyajit Pattnaik\\n\\n₹999.00 ₹499.00\\n\\nData Science\\n\\n1 Month\\n\\n1 Month\\n\\nData Science for Banking: Virtual Internship\\n\\nIn a virtual banking data science internship, participants apply remote data analysis and machine learning techniques to extract insights and enhance operational efficiency.\\n\\nSatyajit Pattnaik\\n\\n₹999.00 ₹499.00\\n\\nData Science\\n\\n1 Month\\n\\n1 Month\\n\\nData Science for Security and Health: Virtual Internship\\n\\nIn the virtual internship for Data Science in Security and Health, participants use remote data analysis and machine learning for enhanced security and health insights.\\n\\nSatyajit Pattnaik\\n\\n₹999.00 ₹499.00\\n\\nAnalytics\\n\\n1 Month\\n\\n1 Month\\n\\nData Analytics for HealthCare: Virtual Internship\\n\\nIn the virtual healthcare data science internship, participants employ remote data analysis and machine learning for improved insights in healthcare.\\n\\nSatyajit Pattnaik\\n\\n₹999.00 ₹499.00\\n\\nAnalytics\\n\\n1 Month\\n\\n1 Month\\n\\nData Analytics for Retail Market: Virtual Internship\\n\\nIn the virtual retail data science internship, participants use remote data analysis for enhanced insights in the retail sector.\\n\\nSatyajit Pattnaik\\n\\n₹999.00 ₹499.00\\n\\nData Science\\n\\n1 Month\\n\\n1 Month\\n\\nData Analytics for Banking: Virtual Internship\\n\\nData Analytics for Banking\\n\\nSatyajit Pattnaik\\n\\n₹999.00 ₹499.00\\n\\nAnalytics\\n\\n1 Month\\n\\n1 Month\\n\\nData Analytics - Bicycle-sharing Analysis: Virtual Internship\\n\\nBicycle-sharing Analysis\\n\\nSatyajit Pattnaik\\n\\n₹999.00 ₹499.00\\n\\nAnalytics\\n\\n1 Month\\n\\n1 Month\\n\\nData Analytics - Customer Personality Analysis: Virtual Internship\\n\\nCustomer Personality Analysis: Virtual Internship\\n\\nSatyajit Pattnaik\\n\\n₹999.00 ₹499.00\\n\\nAnalytics,Data Science\\n\\n1 Month\\n\\n1 Month\\n\\nData Science for Telecom: Virtual Internship\\n\\nIn a virtual data science internship, predict telecom churn by analyzing call details records (CDR) remotely.\\n\\nSatyajit Pattnaik\\n\\n₹999.00 ₹499.00\\n\\nData Science\\n\\n1 Month\\n\\n1 Month\\n\\nData Science for CyberSecurity: Virtual Internship\\n\\nIn a virtual cybersecurity data science internship, predict threats by analyzing call details records (CDR) remotely.\\n\\nSatyajit Pattnaik\\n\\n₹999.00 ₹499.00\\n\\nData Science\\n\\n1 Month\\n\\n1 Month\\n\\nData Science for E-Commerce: Virtual Internship\\n\\nA virtual internship in e-commerce data science involves remotely applying data analysis and machine learning techniques to gain insights and drive improvements in online retail operations.\\n\\nSatyajit Pattnaik\\n\\n₹999.00 ₹499.00\\n\\nData Science\\n\\n1 Month\\n\\n1 Month\\n\\nData Science for Banking: Virtual Internship\\n\\nIn a virtual banking data science internship, participants apply remote data analysis and machine learning techniques to extract insights and enhance operational efficiency.\\n\\nSatyajit Pattnaik\\n\\n₹999.00 ₹499.00\\n\\nData Science\\n\\n1 Month\\n\\n1 Month\\n\\nData Science for Security and Health: Virtual Internship\\n\\nIn the virtual internship for Data Science in Security and Health, participants use remote data analysis and machine learning for enhanced security and health insights.\\n\\nSatyajit Pattnaik\\n\\n₹999.00 ₹499.00\\n\\nAnalytics\\n\\n1 Month\\n\\n1 Month\\n\\nData Analytics for HealthCare: Virtual Internship\\n\\nIn the virtual healthcare data science internship, participants employ remote data analysis and machine learning for improved insights in healthcare.\\n\\nSatyajit Pattnaik\\n\\n₹999.00 ₹499.00\\n\\nAnalytics\\n\\n1 Month\\n\\n1 Month\\n\\nData Analytics for Retail Market: Virtual Internship\\n\\nIn the virtual retail data science internship, participants use remote data analysis for enhanced insights in the retail sector.\\n\\nSatyajit Pattnaik\\n\\n₹999.00 ₹499.00\\n\\nData Science\\n\\n1 Month\\n\\n1 Month\\n\\nData Analytics for Banking: Virtual Internship\\n\\nData Analytics for Banking\\n\\nSatyajit Pattnaik\\n\\n₹999.00 ₹499.00\\n\\nAnalytics\\n\\n1 Month\\n\\n1 Month\\n\\nData Analytics - Bicycle-sharing Analysis: Virtual Internship\\n\\nBicycle-sharing Analysis\\n\\nSatyajit Pattnaik\\n\\n₹999.00 ₹499.00\\n\\nAnalytics\\n\\n1 Month\\n\\n1 Month\\n\\nData Analytics - Customer Personality Analysis: Virtual Internship\\n\\nCustomer Personality Analysis: Virtual Internship\\n\\nSatyajit Pattnaik\\n\\n₹999.00 ₹499.00\\n\\nRecommended Internships\\n\\nData Science\\n\\n1 Month\\n\\n1 Month\\n\\nData Science for CyberSecurity: Virtual Internship\\n\\nIn a virtual cybersecurity data science internship, predict threats by analyzing call details records (CDR) remotely.\\n\\nSatyajit Pattnaik\\n\\n₹999.00 ₹499.00\\n\\nData Science\\n\\n1 Month\\n\\n1 Month\\n\\nData Science for E-Commerce: Virtual Internship\\n\\nA virtual internship in e-commerce data science involves remotely applying data analysis and machine learning techniques to gain insights and drive improvements in online retail operations.\\n\\nSatyajit Pattnaik\\n\\n₹999.00 ₹499.00\\n\\nData Science\\n\\n1 Month\\n\\n1 Month\\n\\nData Science for Banking: Virtual Internship\\n\\nIn a virtual banking data science internship, participants apply remote data analysis and machine learning techniques to extract insights and enhance operational efficiency.\\n\\nSatyajit Pattnaik\\n\\n₹999.00 ₹499.00\\n\\nData Science\\n\\n1 Month\\n\\n1 Month\\n\\nData Science for Security and Health: Virtual Internship\\n\\nIn the virtual internship for Data Science in Security and Health, participants use remote data analysis and machine learning for enhanced security and health insights.\\n\\nSatyajit Pattnaik\\n\\n₹999.00 ₹499.00\\n\\nAnalytics\\n\\n1 Month\\n\\n1 Month\\n\\nData Analytics for HealthCare: Virtual Internship\\n\\nIn the virtual healthcare data science internship, participants employ remote data analysis and machine learning for improved insights in healthcare.\\n\\nSatyajit Pattnaik\\n\\n₹999.00 ₹499.00\\n\\nAnalytics\\n\\n1 Month\\n\\n1 Month\\n\\nData Analytics for Retail Market: Virtual Internship\\n\\nIn the virtual retail data science internship, participants use remote data analysis for enhanced insights in the retail sector.\\n\\nSatyajit Pattnaik\\n\\n₹999.00 ₹499.00\\n\\nData Science\\n\\n1 Month\\n\\n1 Month\\n\\nData Analytics for Banking: Virtual Internship\\n\\nData Analytics for Banking\\n\\nSatyajit Pattnaik\\n\\n₹999.00 ₹499.00\\n\\nAnalytics\\n\\n1 Month\\n\\n1 Month\\n\\nData Analytics - Bicycle-sharing Analysis: Virtual Internship\\n\\nBicycle-sharing Analysis\\n\\nSatyajit Pattnaik\\n\\n₹999.00 ₹499.00\\n\\nAnalytics\\n\\n1 Month\\n\\n1 Month\\n\\nData Analytics - Customer Personality Analysis: Virtual Internship\\n\\nCustomer Personality Analysis: Virtual Internship\\n\\nSatyajit Pattnaik\\n\\n₹999.00 ₹499.00\\n\\nLearn A Skill. Build Your Portfolio. Get Hired!\\n\\nZep Analytics is an AI driven EdTech company focused in providing quality Education in the form of pre-recorded & online bootcamps on the latest technologies such as Data Science, Machine Learning, AI, Data Analytics, and many more. Apart from that, we also have many unique features on the platform such as a reward system where we can provide incentives to our users based on their activities.\\n\\nDiscover\\n\\nOther Courses you may like\\n\\nAnalytics,Data Science\\n\\n6:00\\n\\n6:00\\n\\nPython Programming for Data Science: A-Z\\n\\nLearn to use Data Science & Analysis libraries like Pandas, NumPy, Matplotlib, Seaborn\\n\\nSatyajit Pattnaik\\n\\n₹1,999.00 ₹999.00\\n\\nData Science\\n\\n6:00\\n\\n6:00\\n\\nCNN: Everything about Convolution Neural Networks\\n\\nMaster CNN within few hours & Be Ready to build your own Neural Networks\\n\\nSatyajit Pattnaik\\n\\n₹999.00 ₹499.00\\n\\nData Science\\n\\n7 hours\\n\\n7 hours\\n\\nThe Complete Deep Learning Guide\\n\\nMaster Neural Networks in few hours & Be Ready to build your own!!\\n\\nSatyajit Pattnaik\\n\\n₹1,999.00 ₹999.00\\n\\nBig Data\\n\\n15 hours\\n\\n15 hours\\n\\nApache Spark - Hands on with Big Data\\n\\nApache Spark tutorial with 15+ hours of content and several hands-on examples of analyzing large data sets!!\\n\\nSatyajit Pattnaik\\n\\n₹1,999.00 ₹999.00\\n\\nAnalytics\\n\\n8 hours\\n\\n8 hours\\n\\nMicrosoft Power BI: A Complete Guide [2023 Edition]\\n\\nMaster Power BI Desktop: Learn advanced Power BI analysis & data visualization\\n\\nSatyajit Pattnaik\\n\\n₹3,999.00 ₹1,999.00\\n\\nAnalytics\\n\\n9:00\\n\\n9:00\\n\\nSQL for Data Analysis\\n\\nMaster SQL within few hours\\n\\nSatyajit Pattnaik\\n\\n₹1,999.00 ₹999.00\\n\\nAnalytics\\n\\nData Visualization Bootcamp\\n\\nThe most intense Data Visualization Bootcamp with detailed teaching.\\n\\nSatyajit Pattnaik\\n\\n₹3,999.00 ₹1,999.00\\n\\nData Science\\n\\n1.5\\n\\n1.5\\n\\nData Analytics Portfolio Project: Cryptocurrency\\n\\nLearn how to prepare a Data Analytics Portfolio Project\\n\\nSatyajit Pattnaik\\n\\nFree'),\n",
              " Document(metadata={'source': 'https://zepanalytics.com/courses/python-programming-for-data-science-a-z'}, page_content='₹1,999.00 ₹999.00\\n\\nPython Programming for Data Science: A-Z\\n\\nPython Programming for Data Science\\n\\nLearn to use Data Science & Analysis libraries like Pandas, NumPy, Matplotlib, Seaborn\\n\\nEnglish\\n\\nSatyajit Pattnaik\\n\\nCourse\\n\\n4.9\\n\\nDescription\\n\\nAre you ready to jump into Data Science & Analytics?\\n\\nDo you know that to enter the field of Data Science & Analytics, learning a programming language is must!!\\n\\nThis comprehensive course will be your guide to learn Python from scratch, and even will be introducing you to various mostly used libraries into Machine Learning & Data Science such as Pandas, NumPy, Matplotlib, Seaborn etc. to analyze data, create beautiful visualizations, and use powerful machine learning algorithms!\\n\\nThis course is designed in such a way that even someone with zero programming knowledge can learn with ease, and jump into the field of Data Science & Analytics. Yes, you heard it right!! Even if you have zero knowledge on programming, or you are coming from a purely non-technical background, this is the course you were searching for!! The trainer of this course carries an immense knowledge into Programming, Data Science & Analytics, and have taught 10,000+ students globally. With over 6 hours of content and detailed code notebooks for every lecture this is one of the most comprehensive course for Python on Udemy! Here are the topics that we will learn in this course:\\n\\nPython Basics\\n\\nDatatypes, Operators & Operands\\n\\nData Structures - Lists, Tuples, Sets & Dictionaries\\n\\nLoops & Iteration • Functions\\n\\nMap, Reduce & Filter Functions\\n\\nFile Handling • Control Structures\\n\\nObject Oriented Programming Concepts: Inheritance, Encapsulation, Polymorphism, and Data abstraction\\n\\nPython for Data Science & Analysis: Pandas\\n\\nPython for Data Science & Analysis: NumPy\\n\\nPython for Data Visualization: Matplotlib, Seaborn Enroll in the course and start your journey into Programming, Data Science & Analytics now!!\\n\\nCourse Content\\n\\nClass Resources\\n\\nIntroduction to Python\\n\\nVariables and Keywords\\n\\nDatatypes &amp; Operators\\n\\nLists\\n\\nTuples\\n\\nSets\\n\\nDictionary\\n\\nLoops &amp; Iteration\\n\\nFunctions in Python\\n\\nMap, Reduce &amp; Filter Functions\\n\\nFile Handling\\n\\nControl Structures\\n\\nObject Oriented Programming Concepts\\n\\nPandas\\n\\nNumPy\\n\\nData Visualization\\n\\nMatplotlib\\n\\nSeaborn\\n\\nPython Quiz\\n\\nRatings & Reviews\\n\\nRead More...\\n\\n5.0\\n\\nNamrata Nayak\\n\\nAmazing course.\\n\\nFeb, 12 2023\\n\\n5.0\\n\\nNeelmani Kumar\\n\\nThis course is really great\\n\\nFeb, 12 2023\\n\\n5.0\\n\\nVivek Kumar Verma\\n\\nFeb, 13 2023\\n\\n5.0\\n\\nKiran Navale\\n\\nvery clear and simple explanation.\\n\\nMar, 24 2023\\n\\n5.0\\n\\nvenkatesh dhruva\\n\\ngood start for beginners\\n\\nMay, 21 2023\\n\\nThis course includes\\n\\n6:00 Hours of on-demand video Full lifetime access Certificate of completion\\n\\nInstructor\\n\\nSatyajit Pattnaik\\n\\nLead Data Consultant, PALO IT\\n\\nModal title\\n\\nHow would you rate this course?\\n\\nTerms\\n\\nTerms & Conditions\\n\\nPrivacy Policy\\n\\nCookie Policy\\n\\nRefund Policy\\n\\nAbout\\n\\nAbout Us\\n\\nContact Us\\n\\nFAQs\\n\\nImportant Links\\n\\nResources\\n\\nBlogs\\n\\n© 2024 Zep Analytics. All rights reserved.'),\n",
              " Document(metadata={'source': 'https://zepanalytics.com/courses/microsoft-power-bi-a-complete-guide-2023-edition'}, page_content='₹3,999.00 ₹1,999.00\\n\\nMicrosoft Power BI: A Complete Guide [2023 Edition]\\n\\nAnalytics\\n\\nMaster Power BI Desktop: Learn advanced Power BI analysis & data visualization\\n\\nEnglish\\n\\nSatyajit Pattnaik\\n\\nCourse\\n\\nDescription\\n\\nYou want to analyze data from single or multiple sources? You want to create your individual datasets based on these sources and transform your results into beautiful and easy-to-make visualizations? You also want to share your results with colleagues or collaborate on your projects? Finally, you want to be able to access your data from multiple devices?\\n\\nThen the Power BI tools are the tools to choose for you!\\n\\nIn this course you will learn why Power BI offers you a comprehensive set of Business Intelligence tools for your data analysis goals and how to use these tools to fulfill all of the above tasks - and more. Imagine to quickly structure your data, to easily add calculations to it and to create and publish nice-looking charts in just a few minutes.\\n\\nThis is what you will learn:\\n\\nGet to know the different tools of the Power BI universe and learn how to use them\\n\\nUnderstand Power BI Desktop and its components\\n\\nLearn how to use the Query Editor to connect Power BI to various source types, how to work on the Data Model and understand the difference between those two steps\\n\\nHow to work in the different views of the Data Model\\n\\nHow to create calculated columns, measures and DAX functions\\n\\nHow to build relationships between different tables\\n\\nHow to create a report with different interactive visualization types\\n\\nLearn how to use Power BI Service (= Power BI Pro) to create dashboards and to share and publish your results\\n\\nHow to access your results from multiple devices using Power BI Mobile\\n\\nHow to create custom visuals using typescript and the Power BI Developer Tools\\n\\nAnd more!\\n\\nThis is what this course offers, but is this the right course for you?\\n\\nIf you...\\n\\n...never worked with the Power BI tools before\\n\\n...have a basic understanding of selected tools of the Power BI universe and want to learn how these tools work together\\n\\n...want to understand the latest updated version of Power BI Service, including the newly introduced App Workspaces and the creation and publishing of Apps including your dashboards, reports, and datasets\\n\\n..want to understand the basic concepts regarding the creation of customized visuals using the Power BI Developer Tools\\n\\n...then this is the right course for you.\\n\\nI would be really happy to welcome you to this course!\\n\\nSatyajit Pattnaik\\n\\nWatch out for the course trailer:\\n\\nWho this course is for:\\n\\nPeople who never worked with Power BI and who want to understand how to use these tools\\n\\nAnyone who is interested in learning how to connect the different Power BI tools with each other\\n\\nPeople who want to understand how to create customized visuals with the Power BI Developer tools\\n\\nCourse Content\\n\\nCourse Resources\\n\\nWelcome to the Course!!\\n\\nIntroduction to Power BI\\n\\nLife Hack: How to have Power BI Pro License\\n\\nPower BI Desktop\\n\\nPower BI Services\\n\\nWhat is Power Query Editor\\n\\nData Profiling Tools\\n\\nGroup by Dialog\\n\\nApplied Steps\\n\\nAppending vs Merging\\n\\nDifferent Visuals in Power BI\\n\\nDifferent Charts in Power BI\\n\\nIntroduction to DAX\\n\\nImplicit Measures\\n\\nDAX Formula\\n\\nBasic DAX functions\\n\\nDate functions\\n\\nCALENDAR functions\\n\\nContexts: Row vs Filter\\n\\nCalculate &amp; Filter\\n\\nIF ELSE functions\\n\\nTime Intelligence Functions\\n\\nX vs Non X functions\\n\\nTool Tips &amp; Drill Throughs\\n\\nRelations in Power BI\\n\\nPower BI KPIs\\n\\nAdministration in Power BI: Admin vs Member vs Contributor vs Viewer\\n\\nSecurity in Power BI: RLS\\n\\nFormatting Options in Power BI\\n\\nBest Practices in Power BI\\n\\nWhat is EDA?\\n\\nLive Project\\n\\nThis course includes\\n\\n8 hours Hours of on-demand video Full lifetime access Certificate of completion\\n\\nInstructor\\n\\nSatyajit Pattnaik\\n\\nLead Data Consultant, PALO IT\\n\\nModal title\\n\\nHow would you rate this course?\\n\\nTerms\\n\\nTerms & Conditions\\n\\nPrivacy Policy\\n\\nCookie Policy\\n\\nRefund Policy\\n\\nAbout\\n\\nAbout Us\\n\\nContact Us\\n\\nFAQs\\n\\nImportant Links\\n\\nResources\\n\\nBlogs\\n\\n© 2024 Zep Analytics. All rights reserved.'),\n",
              " Document(metadata={'source': 'https://zepanalytics.com/courses/cnn-everything-about-convolution-neural-networks'}, page_content=\"₹999.00 ₹499.00\\n\\nCNN: Everything about Convolution Neural Networks\\n\\nConvolution Neural Networks\\n\\nMaster CNN within few hours & Be Ready to build your own Neural Networks\\n\\nEnglish\\n\\nSatyajit Pattnaik\\n\\nCourse\\n\\n5.0\\n\\nDescription\\n\\nYou're looking for a complete Convolutional Neural Network (CNN) course that teaches you everything you need to create an Image Classification model in Python, right?\\n\\nYou've found the right Convolutional Neural Networks course!\\n\\nAfter completing this course you will be able to:\\n\\nIdentify the Image Classification problems which can be solved using CNN Models.\\n\\nCreate CNN models in Python using Keras and Tensorflow libraries and analyze their results.\\n\\nConfidently practice, discuss and understand Deep Learning concepts\\n\\nHave a clear understanding of how Neural Networks work internally, and what are various concepts related to this niche.\\n\\nHow this course will help you?\\n\\nA Verifiable Certificate of Completion is presented to all students who undertake this Convolutional Neural networks course.\\n\\nIf you are an Analyst or an ML scientist, or a student who wants to learn and apply Deep learning in Real world image recognition problems, this course will give you a solid base for that by teaching you some of the most advanced concepts of Deep Learning and their implementation in Python without getting too Mathematical.\\n\\nWhy should you choose this course?\\n\\nThis course covers all the steps that one should take to create an image classification model using Convolutional Neural Networks.\\n\\nMost courses only focus on teaching how to run the analysis but we believe that having a strong theoretical understanding of the concepts enables us to create a good model . And after running the analysis, one should be able to judge how good the model is and interpret the results to actually be able to help the business.\\n\\nDownload Practice files\\n\\nWith each lecture, there are class notes attached for you to follow along. There is a final practical assignment for you to practically implement your learning.\\n\\nWhat is covered in this course?\\n\\nUnderstanding Deep Learning\\n\\nActivation Functions\\n\\nHow Neural Network works & learns\\n\\nGradient Descent vs Stochastic Gradient Descent\\n\\nCNN - Building & Evaluating a model\\n\\nHands-on Project\\n\\nGo ahead and click the enroll button, and I'll see you in lesson 1!\\n\\nCourse Content\\n\\nCourse Resources\\n\\nIntroduction to CNN\\n\\nUnderstanding Deep Learning\\n\\nWhat is a Neuron?\\n\\nWhat are Activation Functions?\\n\\nStep Function\\n\\nLinear Function\\n\\nSigmoid Function\\n\\nTanH Function\\n\\nRectified Linear Unit (ReLu) Function\\n\\nBackward Propagation & Forward Pass\\n\\nGradient Descent\\n\\nWhat is CNN?\\n\\nDifferent Steps in CNN (Explained)\\n\\nExplanation of the CNN Architecture\\n\\nImage Augmentation\\n\\nBatch Size vs Iterations vs Epochs\\n\\nCode Implementation of CNN\\n\\nExplanation on Model Summary & Model Parameters\\n\\nX-Ray based Pneumonia Classification\\n\\nRatings & Reviews\\n\\n5.0\\n\\nSatyajit Pattnaik\\n\\nJul, 25 2023\\n\\nThis course includes\\n\\n6:00 Hours of on-demand video Full lifetime access Certificate of completion\\n\\nInstructor\\n\\nSatyajit Pattnaik\\n\\nLead Data Consultant, PALO IT\\n\\nModal title\\n\\nHow would you rate this course?\\n\\nTerms\\n\\nTerms & Conditions\\n\\nPrivacy Policy\\n\\nCookie Policy\\n\\nRefund Policy\\n\\nAbout\\n\\nAbout Us\\n\\nContact Us\\n\\nFAQs\\n\\nImportant Links\\n\\nResources\\n\\nBlogs\\n\\n© 2024 Zep Analytics. All rights reserved.\")]"
            ]
          },
          "execution_count": 13,
          "metadata": {},
          "output_type": "execute_result"
        }
      ],
      "source": [
        "data"
      ]
    },
    {
      "cell_type": "code",
      "execution_count": 14,
      "metadata": {
        "id": "0FgCbQof9lfs"
      },
      "outputs": [],
      "source": [
        "text_splitter = RecursiveCharacterTextSplitter(separators= '\\n',\n",
        "                                              chunk_size=1000,\n",
        "                                              chunk_overlap=200)\n",
        "splits = text_splitter.split_documents(data)"
      ]
    },
    {
      "cell_type": "code",
      "execution_count": 15,
      "metadata": {
        "id": "OP8IpCYj9t1c"
      },
      "outputs": [],
      "source": [
        "vectorstores = Chroma.from_documents(documents=splits, embedding= gemini_embeddings)\n",
        "retriever = vectorstores.as_retriever()"
      ]
    },
    {
      "cell_type": "code",
      "execution_count": 16,
      "metadata": {
        "colab": {
          "base_uri": "https://localhost:8080/"
        },
        "id": "avlujJ5O-b6w",
        "outputId": "2705b5f2-8f7f-49ef-d9d8-c3364616cd3f"
      },
      "outputs": [
        {
          "data": {
            "text/plain": [
              "VectorStoreRetriever(tags=['Chroma', 'GoogleGenerativeAIEmbeddings'], vectorstore=<langchain_chroma.vectorstores.Chroma object at 0x7fab1224d9f0>)"
            ]
          },
          "execution_count": 16,
          "metadata": {},
          "output_type": "execute_result"
        }
      ],
      "source": [
        "retriever"
      ]
    },
    {
      "cell_type": "code",
      "execution_count": 17,
      "metadata": {
        "id": "bOMQ_tdA9vdM"
      },
      "outputs": [],
      "source": [
        "system_prompt = (\n",
        "    \"You are an assistant for question-answering tasks. \"\n",
        "    \"Use the following pieces of retrieved context to answer the question \"\n",
        "    \"If you don't know the answer, say that you don't know.\"\n",
        "    \"Use three sentences maximum and keep the answer concise.\"\n",
        "    \"\\n\\n\"\n",
        "    \"{context}\"\n",
        ")\n"
      ]
    },
    {
      "cell_type": "code",
      "execution_count": 18,
      "metadata": {
        "id": "Z59-IGIy91PD"
      },
      "outputs": [],
      "source": [
        "chat_prompt = ChatPromptTemplate(\n",
        "    [\n",
        "        (\"system\", system_prompt),\n",
        "        (\"human\", \"{input}\")\n",
        "    ]\n",
        ")"
      ]
    },
    {
      "cell_type": "code",
      "execution_count": 19,
      "metadata": {
        "id": "rRSkrq9192z9"
      },
      "outputs": [],
      "source": [
        "question_answering_chain = create_stuff_documents_chain(model, chat_prompt)"
      ]
    },
    {
      "cell_type": "code",
      "execution_count": 20,
      "metadata": {
        "id": "HCI8oAmj9-IH"
      },
      "outputs": [],
      "source": [
        "rag_chain= create_retrieval_chain(retriever, question_answering_chain)"
      ]
    },
    {
      "cell_type": "code",
      "execution_count": 21,
      "metadata": {
        "id": "_iDPppNJ-AzQ"
      },
      "outputs": [],
      "source": [
        "response = rag_chain.invoke({\"input\": \"Can you tell the cources price for data science\"})"
      ]
    },
    {
      "cell_type": "code",
      "execution_count": 22,
      "metadata": {
        "colab": {
          "base_uri": "https://localhost:8080/",
          "height": 53
        },
        "id": "iEGu1yby-RtM",
        "outputId": "85a231c6-9576-429c-a3a8-fc915f2b7c92"
      },
      "outputs": [
        {
          "data": {
            "application/vnd.google.colaboratory.intrinsic+json": {
              "type": "string"
            },
            "text/plain": [
              "'The price for the course \"Python Programming for Data Science: A-Z\" is ₹1,999.00 ₹999.00.\\nThe price for the course \"CNN: Everything about Convolution Neural Networks\" is ₹999.00 ₹499.00.\\nThe price for the course \"The Complete Deep Learning Guide\" is ₹1,999.00 ₹999.00.'"
            ]
          },
          "execution_count": 22,
          "metadata": {},
          "output_type": "execute_result"
        }
      ],
      "source": [
        "response[\"answer\"]"
      ]
    },
    {
      "cell_type": "code",
      "execution_count": 23,
      "metadata": {
        "id": "Jw0G1ate-Tkb"
      },
      "outputs": [],
      "source": [
        "from langchain.chains import create_history_aware_retriever"
      ]
    },
    {
      "cell_type": "code",
      "execution_count": 24,
      "metadata": {
        "id": "Sf_9wd4V_GbL"
      },
      "outputs": [],
      "source": [
        "retriever_prompt = (\"Given a chat history and the latest user question which might reference context in the chat history,\"\n",
        "    \"formulate a standalone question which can be understood without the chat history.\"\n",
        "    \"Do NOT answer the question, just reformulate it if needed and otherwise return it as is.\"\n",
        "    )"
      ]
    },
    {
      "cell_type": "code",
      "execution_count": 25,
      "metadata": {
        "colab": {
          "base_uri": "https://localhost:8080/"
        },
        "id": "qUbmVQNi_Ijv",
        "outputId": "5115cb30-13d8-4148-c20c-1c28453414d5"
      },
      "outputs": [
        {
          "data": {
            "text/plain": [
              "ChatPromptTemplate(input_variables=['chat_history', 'input'], input_types={'chat_history': typing.List[typing.Union[langchain_core.messages.ai.AIMessage, langchain_core.messages.human.HumanMessage, langchain_core.messages.chat.ChatMessage, langchain_core.messages.system.SystemMessage, langchain_core.messages.function.FunctionMessage, langchain_core.messages.tool.ToolMessage]]}, messages=[SystemMessagePromptTemplate(prompt=PromptTemplate(input_variables=[], template='Given a chat history and the latest user question which might reference context in the chat history,formulate a standalone question which can be understood without the chat history.Do NOT answer the question, just reformulate it if needed and otherwise return it as is.')), MessagesPlaceholder(variable_name='chat_history'), HumanMessagePromptTemplate(prompt=PromptTemplate(input_variables=['input'], template='{input}'))])"
            ]
          },
          "execution_count": 25,
          "metadata": {},
          "output_type": "execute_result"
        }
      ],
      "source": [
        "contextualize_q_prompt = ChatPromptTemplate.from_messages(\n",
        "    [\n",
        "    (\"system\", retriever_prompt),\n",
        "    MessagesPlaceholder(variable_name=\"chat_history\"),\n",
        "    (\"human\", \"{input}\"),\n",
        "    ]\n",
        ")\n",
        "contextualize_q_prompt"
      ]
    },
    {
      "cell_type": "code",
      "execution_count": 26,
      "metadata": {
        "id": "KLQUumfn_Kwv"
      },
      "outputs": [],
      "source": [
        "history_aware_retriever = create_history_aware_retriever(model, retriever, contextualize_q_prompt)"
      ]
    },
    {
      "cell_type": "code",
      "execution_count": 27,
      "metadata": {
        "id": "2SM9S8xL_NEq"
      },
      "outputs": [],
      "source": [
        "from langchain.chains import create_retrieval_chain"
      ]
    },
    {
      "cell_type": "code",
      "execution_count": 28,
      "metadata": {
        "id": "1DSqUgJN_PUK"
      },
      "outputs": [],
      "source": [
        "from langchain.chains.combine_documents import create_stuff_documents_chain"
      ]
    },
    {
      "cell_type": "code",
      "execution_count": 29,
      "metadata": {
        "id": "UEb-ngWs_RL2"
      },
      "outputs": [],
      "source": [
        "qa_prompt = ChatPromptTemplate.from_messages(\n",
        "    [\n",
        "        (\"system\", system_prompt),\n",
        "        MessagesPlaceholder(variable_name=\"chat_history\"),\n",
        "        (\"human\", \"{input}\")\n",
        "    ]\n",
        ")"
      ]
    },
    {
      "cell_type": "code",
      "execution_count": 30,
      "metadata": {
        "id": "_7ho-ARC_Sq_"
      },
      "outputs": [],
      "source": [
        "question_answer_chain = create_stuff_documents_chain(model, qa_prompt)"
      ]
    },
    {
      "cell_type": "code",
      "execution_count": 31,
      "metadata": {
        "id": "rRJ3bUYf_VJZ"
      },
      "outputs": [],
      "source": [
        "rag_chain = create_retrieval_chain(history_aware_retriever, question_answer_chain)"
      ]
    },
    {
      "cell_type": "code",
      "execution_count": 32,
      "metadata": {
        "id": "W0z5yAaU_W6G"
      },
      "outputs": [],
      "source": [
        "from langchain_core.messages import HumanMessage, AIMessage"
      ]
    },
    {
      "cell_type": "code",
      "execution_count": 33,
      "metadata": {
        "id": "gt18i_1W_X--"
      },
      "outputs": [],
      "source": [
        "chat_history= []"
      ]
    },
    {
      "cell_type": "code",
      "execution_count": 34,
      "metadata": {
        "id": "V7UOLJ9dDTd6"
      },
      "outputs": [],
      "source": [
        "question1 = \"Why should i choose Zep Analytics?\""
      ]
    },
    {
      "cell_type": "code",
      "execution_count": 35,
      "metadata": {
        "id": "xVsJdgk7DVSa"
      },
      "outputs": [],
      "source": [
        "message1 = rag_chain.invoke({\"input\": question1, \"chat_history\": chat_history})"
      ]
    },
    {
      "cell_type": "code",
      "execution_count": 36,
      "metadata": {
        "colab": {
          "base_uri": "https://localhost:8080/",
          "height": 36
        },
        "id": "5LotlHAsDbCi",
        "outputId": "0eea6433-c5a9-4d50-ffe2-0572398f7ed6"
      },
      "outputs": [
        {
          "data": {
            "application/vnd.google.colaboratory.intrinsic+json": {
              "type": "string"
            },
            "text/plain": [
              "'I apologize, but the provided context does not contain the answer to your question about why you should choose Zep Analytics.'"
            ]
          },
          "execution_count": 36,
          "metadata": {},
          "output_type": "execute_result"
        }
      ],
      "source": [
        "message1[\"answer\"]"
      ]
    },
    {
      "cell_type": "code",
      "execution_count": 37,
      "metadata": {
        "id": "KpRLrhsfDgjy"
      },
      "outputs": [],
      "source": [
        "chat_history.extend(\n",
        "    [\n",
        "        HumanMessage(content= question1),\n",
        "        AIMessage(content=message1[\"answer\"])\n",
        "    ]\n",
        ")"
      ]
    },
    {
      "cell_type": "code",
      "execution_count": 38,
      "metadata": {
        "colab": {
          "base_uri": "https://localhost:8080/"
        },
        "id": "r6KFPzsjD-sL",
        "outputId": "2d08375d-fca7-459a-a5ba-87fa5375b15e"
      },
      "outputs": [
        {
          "data": {
            "text/plain": [
              "[HumanMessage(content='Why should i choose Zep Analytics?'),\n",
              " AIMessage(content='I apologize, but the provided context does not contain the answer to your question about why you should choose Zep Analytics.')]"
            ]
          },
          "execution_count": 38,
          "metadata": {},
          "output_type": "execute_result"
        }
      ],
      "source": [
        "chat_history"
      ]
    },
    {
      "cell_type": "code",
      "execution_count": 39,
      "metadata": {
        "id": "f-mjAGXSD_i6"
      },
      "outputs": [],
      "source": [
        "from langchain_community.chat_message_histories import ChatMessageHistory\n",
        "from langchain_core.chat_history import BaseChatMessageHistory\n",
        "from langchain_core.runnables.history import RunnableWithMessageHistory"
      ]
    },
    {
      "cell_type": "code",
      "execution_count": 40,
      "metadata": {
        "id": "m2rXVwLQECm-"
      },
      "outputs": [],
      "source": [
        "store = {}"
      ]
    },
    {
      "cell_type": "code",
      "execution_count": 41,
      "metadata": {
        "id": "49OYXzPPEEMP"
      },
      "outputs": [],
      "source": [
        "def get_session_history(session_id: str)-> BaseChatMessageHistory:\n",
        "  if session_id not in store:\n",
        "    store[session_id]= ChatMessageHistory()\n",
        "  return store[session_id]"
      ]
    },
    {
      "cell_type": "code",
      "execution_count": 42,
      "metadata": {
        "id": "6ilOrI-HGAa9"
      },
      "outputs": [],
      "source": [
        "conversational_rag_chain = RunnableWithMessageHistory(\n",
        "    rag_chain,\n",
        "    get_session_history,\n",
        "    input_messages_key=\"input\",\n",
        "    history_messages_key=\"chat_history\",\n",
        "    output_messages_key=\"answer\",\n",
        ")"
      ]
    },
    {
      "cell_type": "code",
      "execution_count": 43,
      "metadata": {
        "colab": {
          "base_uri": "https://localhost:8080/",
          "height": 36
        },
        "id": "eNWnY6W6GCgA",
        "outputId": "79d8771c-91c6-41ab-b6db-e758ef6206a7"
      },
      "outputs": [
        {
          "data": {
            "application/vnd.google.colaboratory.intrinsic+json": {
              "type": "string"
            },
            "text/plain": [
              "'I cannot answer this question because the provided context does not give information on why Zep Analytics should be chosen.'"
            ]
          },
          "execution_count": 43,
          "metadata": {},
          "output_type": "execute_result"
        }
      ],
      "source": [
        "conversational_rag_chain.invoke(\n",
        "    {\"input\": \"Why should i choose Zep Analytics?\"},\n",
        "    config={\n",
        "        \"configurable\": {\"session_id\": \"abc123\"}\n",
        "    },  # constructs a key \"abc123\" in `store`.\n",
        ")[\"answer\"]"
      ]
    },
    {
      "cell_type": "code",
      "execution_count": 44,
      "metadata": {
        "colab": {
          "base_uri": "https://localhost:8080/"
        },
        "id": "j2xbCAYqGIBN",
        "outputId": "28532db6-64cc-4c23-f606-b7e5c8c67d1b"
      },
      "outputs": [
        {
          "data": {
            "text/plain": [
              "{'abc123': InMemoryChatMessageHistory(messages=[HumanMessage(content='Why should i choose Zep Analytics?'), AIMessage(content='I cannot answer this question because the provided context does not give information on why Zep Analytics should be chosen.')])}"
            ]
          },
          "execution_count": 44,
          "metadata": {},
          "output_type": "execute_result"
        }
      ],
      "source": [
        "store"
      ]
    },
    {
      "cell_type": "code",
      "execution_count": 45,
      "metadata": {
        "colab": {
          "base_uri": "https://localhost:8080/",
          "height": 70
        },
        "id": "Gjgaf1a-GJ4x",
        "outputId": "add471d2-a77c-4dba-cee8-c4b1775ba0bc"
      },
      "outputs": [
        {
          "data": {
            "application/vnd.google.colaboratory.intrinsic+json": {
              "type": "string"
            },
            "text/plain": [
              "'Students have given positive reviews for Zep Analytics, praising the course structure, clear explanations, and real-life examples used in the data analytics concepts. They also appreciate the affordable course fee and the support provided by Satyajit Sir throughout the learning journey. Overall, students recommend the course to anyone looking to transition into the data science field.'"
            ]
          },
          "execution_count": 45,
          "metadata": {},
          "output_type": "execute_result"
        }
      ],
      "source": [
        "conversational_rag_chain.invoke(\n",
        "    {\"input\": \"Can give the summary of reviews from the students\"},\n",
        "    config={\"configurable\": {\"session_id\": \"abc123\"}},\n",
        ")[\"answer\"]"
      ]
    },
    {
      "cell_type": "code",
      "execution_count": 46,
      "metadata": {
        "colab": {
          "base_uri": "https://localhost:8080/"
        },
        "id": "-XUL6WwzGc8c",
        "outputId": "22c03f41-6f62-47b7-c654-407088ed0cc8"
      },
      "outputs": [
        {
          "data": {
            "text/plain": [
              "{'abc123': InMemoryChatMessageHistory(messages=[HumanMessage(content='Why should i choose Zep Analytics?'), AIMessage(content='I cannot answer this question because the provided context does not give information on why Zep Analytics should be chosen.'), HumanMessage(content='Can give the summary of reviews from the students'), AIMessage(content='Students have given positive reviews for Zep Analytics, praising the course structure, clear explanations, and real-life examples used in the data analytics concepts. They also appreciate the affordable course fee and the support provided by Satyajit Sir throughout the learning journey. Overall, students recommend the course to anyone looking to transition into the data science field.')])}"
            ]
          },
          "execution_count": 46,
          "metadata": {},
          "output_type": "execute_result"
        }
      ],
      "source": [
        "store"
      ]
    },
    {
      "cell_type": "code",
      "execution_count": 47,
      "metadata": {
        "colab": {
          "base_uri": "https://localhost:8080/"
        },
        "id": "Pbe4m1jRGiPA",
        "outputId": "a018d3d6-2703-412b-c073-537e514a9923"
      },
      "outputs": [
        {
          "name": "stdout",
          "output_type": "stream",
          "text": [
            "User: Why should i choose Zep Analytics?\n",
            "\n",
            "AI: I cannot answer this question because the provided context does not give information on why Zep Analytics should be chosen.\n",
            "\n",
            "User: Can give the summary of reviews from the students\n",
            "\n",
            "AI: Students have given positive reviews for Zep Analytics, praising the course structure, clear explanations, and real-life examples used in the data analytics concepts. They also appreciate the affordable course fee and the support provided by Satyajit Sir throughout the learning journey. Overall, students recommend the course to anyone looking to transition into the data science field.\n",
            "\n"
          ]
        }
      ],
      "source": [
        "for message in store[\"abc123\"].messages:\n",
        "    if isinstance(message, AIMessage):\n",
        "        prefix = \"AI\"\n",
        "    else:\n",
        "        prefix = \"User\"\n",
        "\n",
        "    print(f\"{prefix}: {message.content}\\n\")"
      ]
    },
    {
      "cell_type": "code",
      "execution_count": 48,
      "metadata": {
        "colab": {
          "base_uri": "https://localhost:8080/",
          "height": 123
        },
        "id": "8G__yzY9GlkT",
        "outputId": "3c8e2a78-478a-47d9-8a0e-0b4f4df7a038"
      },
      "outputs": [
        {
          "data": {
            "application/vnd.google.colaboratory.intrinsic+json": {
              "type": "string"
            },
            "text/plain": [
              "'**Python Programming for Data Science**\\n\\n**Course Overview:**\\n\\n* Learn the fundamentals of Python programming from scratch\\n* Explore essential data science libraries like Pandas, NumPy, Matplotlib, and Seaborn\\n* Master data analysis, visualization, and machine learning algorithms\\n* Gain hands-on experience through practical exercises and code notebooks\\n\\n**Course Content:**\\n\\n* Introduction to Python\\n* Data Structures and Algorithms\\n* Data Manipulation with Pandas\\n* Data Analysis with NumPy\\n* Data Visualization with Matplotlib and Seaborn\\n* Machine Learning with Python\\n* Object-Oriented Programming\\n\\n**Benefits:**\\n\\n* **Comprehensive:** Covers all essential Python concepts and data science techniques\\n* **Hands-On:** Provides practical exercises and code notebooks for better understanding\\n* **Beginner-Friendly:** Suitable for individuals with no prior programming experience\\n* **Affordable:** Offered at a reasonable cost\\n* **Instructor Support:** Get support from experienced instructor Satyajit Pattnaik throughout the learning journey\\n\\n**Target Audience:**\\n\\n* Individuals aspiring to enter the field of data science\\n* Students pursuing data science or analytics programs\\n* Professionals looking to enhance their data analysis skills\\n* Anyone interested in learning Python for data science\\n\\n**Course Duration:**\\n\\n* 6 hours of video content\\n\\n**Course Fee:**\\n\\n* ₹999.00 (discounted from ₹1,999.00)'"
            ]
          },
          "execution_count": 48,
          "metadata": {},
          "output_type": "execute_result"
        }
      ],
      "source": [
        "conversational_rag_chain.invoke(\n",
        "    {\"input\": \"give me the details for Python Programming for Data Science?\"},\n",
        "    config={\"configurable\": {\"session_id\": \"abc123\"}},\n",
        ")[\"answer\"]"
      ]
    },
    {
      "cell_type": "markdown",
      "metadata": {
        "id": "ufKgK0CGP6vn"
      },
      "source": [
        "**Python Programming for Data Science**\n",
        "\n",
        "**Course Overview:**\n",
        "\n",
        "* Learn the fundamentals of Python programming from scratch\n",
        "* Explore essential data science libraries like Pandas, NumPy, Matplotlib, and Seaborn\n",
        "* Master data analysis, visualization, and machine learning algorithms\n",
        "* Gain hands-on experience through practical exercises and code notebooks\n",
        "\n",
        "**Course Content:**\n",
        "\n",
        "* Introduction to Python\n",
        "* Data Structures and Algorithms\n",
        "* Data Manipulation with Pandas\n",
        "* Data Analysis with NumPy\n",
        "* Data Visualization with Matplotlib and Seaborn\n",
        "* Machine Learning with Python\n",
        "* Object-Oriented Programming\n",
        "\n",
        "**Benefits:**\n",
        "\n",
        "* **Comprehensive:** Covers all essential Python concepts and data science techniques\n",
        "* **Hands-On:** Provides practical exercises and code notebooks for better understanding\n",
        "* **Beginner-Friendly:** Suitable for individuals with no prior programming experience\n",
        "* **Affordable:** Offered at a reasonable cost\n",
        "* **Instructor Support:** Get support from experienced instructor Satyajit Pattnaik throughout the learning journey\n",
        "\n",
        "**Target Audience:**\n",
        "\n",
        "* Individuals aspiring to enter the field of data science\n",
        "* Students pursuing data science or analytics programs\n",
        "* Professionals looking to enhance their data analysis skills\n",
        "* Anyone interested in learning Python for data science\n",
        "\n",
        "**Course Duration:**\n",
        "\n",
        "* 6 hours of video content\n",
        "\n",
        "**Course Fee:**\n",
        "\n",
        "* ₹999.00 (discounted from ₹1,999.00)"
      ]
    },
    {
      "cell_type": "code",
      "execution_count": 49,
      "metadata": {
        "colab": {
          "base_uri": "https://localhost:8080/",
          "height": 123
        },
        "id": "0b7i8C1TPv1_",
        "outputId": "ce69d0db-7e38-4e4c-d824-f6f7f3b25ee7"
      },
      "outputs": [
        {
          "data": {
            "application/vnd.google.colaboratory.intrinsic+json": {
              "type": "string"
            },
            "text/plain": [
              "'**Python Programming for Data Science Course Content:**\\n\\n**Module 1: Introduction to Python**\\n\\n* Python basics and setup\\n* Data types and operators\\n* Control flow and functions\\n\\n**Module 2: Data Structures and Algorithms**\\n\\n* Lists, tuples, sets, and dictionaries\\n* Data manipulation techniques\\n* Algorithms for sorting and searching\\n\\n**Module 3: Data Manipulation with Pandas**\\n\\n* Introduction to Pandas\\n* DataFrames and Series\\n* Data cleaning and transformation\\n\\n**Module 4: Data Analysis with NumPy**\\n\\n* Introduction to NumPy\\n* Numerical operations and functions\\n* Statistical analysis\\n\\n**Module 5: Data Visualization with Matplotlib and Seaborn**\\n\\n* Introduction to Matplotlib and Seaborn\\n* Creating charts and graphs\\n* Customizing visualizations\\n\\n**Module 6: Machine Learning with Python**\\n\\n* Introduction to machine learning\\n* Supervised and unsupervised learning\\n* Model evaluation and selection\\n\\n**Module 7: Object-Oriented Programming**\\n\\n* Object-oriented concepts\\n* Classes and objects\\n* Inheritance and polymorphism\\n\\n**Bonus Module:**\\n\\n* Hands-on projects and case studies'"
            ]
          },
          "execution_count": 49,
          "metadata": {},
          "output_type": "execute_result"
        }
      ],
      "source": [
        "conversational_rag_chain.invoke(\n",
        "    {\"input\": \"give me the course content?\"},\n",
        "    config={\"configurable\": {\"session_id\": \"abc123\"}},\n",
        ")[\"answer\"]"
      ]
    },
    {
      "cell_type": "markdown",
      "metadata": {
        "id": "CHAIYtChP8e7"
      },
      "source": [
        "**Python Programming for Data Science Course Content:**\n",
        "\n",
        "**Module 1: Introduction to Python**\n",
        "\n",
        "* Python basics and setup\n",
        "* Data types and operators\n",
        "* Control flow and functions\n",
        "\n",
        "**Module 2: Data Structures and Algorithms**\n",
        "\n",
        "* Lists, tuples, sets, and dictionaries\n",
        "* Data manipulation techniques\n",
        "* Algorithms for sorting and searching\n",
        "\n",
        "**Module 3: Data Manipulation with Pandas**\n",
        "\n",
        "* Introduction to Pandas\n",
        "* DataFrames and Series\n",
        "* Data cleaning and transformation\n",
        "\n",
        "**Module 4: Data Analysis with NumPy**\n",
        "\n",
        "* Introduction to NumPy\n",
        "* Numerical operations and functions\n",
        "* Statistical analysis\n",
        "\n",
        "**Module 5: Data Visualization with Matplotlib and Seaborn**\n",
        "\n",
        "* Introduction to Matplotlib and Seaborn\n",
        "* Creating charts and graphs\n",
        "* Customizing visualizations\n",
        "\n",
        "**Module 6: Machine Learning with Python**\n",
        "\n",
        "* Introduction to machine learning\n",
        "* Supervised and unsupervised learning\n",
        "* Model evaluation and selection\n",
        "\n",
        "**Module 7: Object-Oriented Programming**\n",
        "\n",
        "* Object-oriented concepts\n",
        "* Classes and objects\n",
        "* Inheritance and polymorphism\n",
        "\n",
        "**Bonus Module:**\n",
        "\n",
        "* Hands-on projects and case studies"
      ]
    },
    {
      "cell_type": "code",
      "execution_count": null,
      "metadata": {
        "id": "3Y5d-OQQP3aA"
      },
      "outputs": [],
      "source": []
    }
  ],
  "metadata": {
    "accelerator": "GPU",
    "colab": {
      "gpuType": "T4",
      "machine_shape": "hm",
      "provenance": []
    },
    "kernelspec": {
      "display_name": "Python 3",
      "name": "python3"
    },
    "language_info": {
      "codemirror_mode": {
        "name": "ipython",
        "version": 3
      },
      "file_extension": ".py",
      "mimetype": "text/x-python",
      "name": "python",
      "nbconvert_exporter": "python",
      "pygments_lexer": "ipython3",
      "version": "3.10.0"
    }
  },
  "nbformat": 4,
  "nbformat_minor": 0
}
